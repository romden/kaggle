{
 "cells": [
  {
   "cell_type": "markdown",
   "metadata": {
    "_cell_guid": "b1076dfc-b9ad-4769-8c92-a6c4dae69d19",
    "_uuid": "8f2839f25d086af736a60e9eeb907d3b93b6e0e5",
    "papermill": {
     "duration": 0.006408,
     "end_time": "2022-08-21T00:00:38.723761",
     "exception": false,
     "start_time": "2022-08-21T00:00:38.717353",
     "status": "completed"
    },
    "tags": []
   },
   "source": [
    "OpenProblems / NeurIPS 2021 competition for multimodal single-cell data integration\n",
    "\n",
    "https://github.com/openproblems-bio/neurips2021_multimodal_topmethods"
   ]
  },
  {
   "cell_type": "code",
   "execution_count": 1,
   "metadata": {
    "_kg_hide-input": true,
    "execution": {
     "iopub.execute_input": "2022-08-21T00:00:38.736284Z",
     "iopub.status.busy": "2022-08-21T00:00:38.735780Z",
     "iopub.status.idle": "2022-08-21T00:00:40.064166Z",
     "shell.execute_reply": "2022-08-21T00:00:40.062781Z"
    },
    "papermill": {
     "duration": 1.33831,
     "end_time": "2022-08-21T00:00:40.067426",
     "exception": false,
     "start_time": "2022-08-21T00:00:38.729116",
     "status": "completed"
    },
    "tags": []
   },
   "outputs": [
    {
     "name": "stderr",
     "output_type": "stream",
     "text": [
      "2022-10-31 09:32:10.255938: W tensorflow/stream_executor/platform/default/dso_loader.cc:64] Could not load dynamic library 'libcudart.so.11.0'; dlerror: libcudart.so.11.0: cannot open shared object file: No such file or directory; LD_LIBRARY_PATH: /usr/hadoop/lib/native/:/usr/local/cuda-9.0/targets/x86_64-linux/lib/:/usr/local/cuda-9.0/targets/x86_64-linux/lib64/:/usr/hadoop/lib/native/:/usr/local/cuda-9.0/targets/x86_64-linux/lib/:/usr/local/cuda-9.0/targets/x86_64-linux/lib64/::/usr/local/cuda/lib64:/usr/local/cuda/extras/CUPTI/lib64:/usr/local/cuda/lib64:/usr/local/cuda/extras/CUPTI/lib64:/usr/hadoop/lib/native:/usr/hadoop/lib/native/Linux-amd64-64\n",
      "2022-10-31 09:32:10.255970: I tensorflow/stream_executor/cuda/cudart_stub.cc:29] Ignore above cudart dlerror if you do not have a GPU set up on your machine.\n"
     ]
    },
    {
     "name": "stdout",
     "output_type": "stream",
     "text": [
      "TF version: 2.6.0\n",
      "TFP version: 0.14.0\n"
     ]
    }
   ],
   "source": [
    "import numpy as np\n",
    "import pandas as pd\n",
    "\n",
    "import os, gc, pickle, json\n",
    "\n",
    "import matplotlib.pyplot as plt\n",
    "from colorama import Fore, Back, Style\n",
    "from matplotlib.ticker import MaxNLocator\n",
    "\n",
    "from sklearn.base import BaseEstimator, TransformerMixin\n",
    "from sklearn.pipeline import make_pipeline, Pipeline\n",
    "from sklearn.preprocessing import StandardScaler\n",
    "from sklearn.decomposition import PCA, TruncatedSVD\n",
    "from sklearn.linear_model import Ridge, LinearRegression\n",
    "from sklearn.dummy import DummyRegressor\n",
    "\n",
    "from sklearn.metrics import mean_squared_error\n",
    "from sklearn.model_selection import KFold\n",
    "\n",
    "import tensorflow as tf\n",
    "#tf.keras.backend.clear_session()\n",
    "\n",
    "import tensorflow_probability as tfp\n",
    "tfd = tfp.distributions\n",
    "tfpl = tfp.layers\n",
    "tfb = tfp.bijectors\n",
    "\n",
    "print('TF version:', tf.__version__)\n",
    "print('TFP version:', tfp.__version__)\n",
    "\n",
    "from config import *"
   ]
  },
  {
   "cell_type": "code",
   "execution_count": 33,
   "metadata": {
    "collapsed": true
   },
   "outputs": [],
   "source": [
    "DATA_DIR = os.path.join(PATH_WORKING, 'data_cite_x512')\n",
    "MODEL_DIR_nn = os.path.join(PATH_WORKING, 'nn_cite_x512')\n",
    "MODEL_DIR_lgb = os.path.join(PATH_WORKING, 'lgb_cite_x512')"
   ]
  },
  {
   "cell_type": "code",
   "execution_count": 34,
   "metadata": {
    "collapsed": true
   },
   "outputs": [],
   "source": [
    "y_true = pd.read_hdf(FP_CITE_TRAIN_TARGETS).values.astype('float32') "
   ]
  },
  {
   "cell_type": "code",
   "execution_count": 35,
   "metadata": {
    "collapsed": true
   },
   "outputs": [],
   "source": [
    "mse_nn = np.zeros((140,))\n",
    "mse_lgb = np.zeros((140,))\n",
    "\n",
    "for k, (train_index, test_index) in enumerate(KFold(n_splits=10, shuffle=True, random_state=SEED*4).split(y_true)):\n",
    "\n",
    "    y_fold_true = y_true[test_index]\n",
    "\n",
    "    y_fold_nn = np.load(os.path.join(MODEL_DIR_nn, f'y_fold_{k}.npy'))\n",
    "    y_fold_lgb = np.load(os.path.join(MODEL_DIR_lgb, f'y_fold_{k}.npy'))\n",
    "    \n",
    "    assert y_fold_true.shape == y_fold_nn.shape\n",
    "    assert y_fold_true.shape == y_fold_lgb.shape\n",
    "    assert y_fold_nn.shape == y_fold_lgb.shape\n",
    "    \n",
    "    # fix bounds for preds\n",
    "    lb = np.min(y_fold_true, axis=0, keepdims=True)\n",
    "    ub = np.max(y_fold_true, axis=0, keepdims=True)\n",
    "    y_fold_nn = np.clip(y_fold_nn, lb, ub)\n",
    "    y_fold_lgb = np.clip(y_fold_lgb, lb, ub)\n",
    "    \n",
    "    erros_nn = (y_fold_true - y_fold_nn)**2\n",
    "    erros_lgb = (y_fold_true - y_fold_lgb)**2\n",
    "    \n",
    "    mse_nn += np.mean(erros_nn, axis=0)\n",
    "    mse_lgb += np.mean(erros_lgb, axis=0)\n",
    "\n",
    "mse_nn /= 10\n",
    "mse_lgb /= 10"
   ]
  },
  {
   "cell_type": "code",
   "execution_count": 41,
   "metadata": {},
   "outputs": [
    {
     "name": "stdout",
     "output_type": "stream",
     "text": [
      "81\n"
     ]
    },
    {
     "data": {
      "text/plain": [
       "array([  0,   3,   4,   5,   6,   7,   8,   9,  13,  14,  15,  16,  17,\n",
       "        18,  20,  21,  24,  28,  29,  30,  37,  42,  43,  44,  45,  48,\n",
       "        50,  51,  52,  54,  55,  57,  58,  60,  61,  64,  68,  69,  70,\n",
       "        71,  73,  75,  77,  79,  80,  81,  82,  86,  88,  89,  91,  92,\n",
       "        94,  95,  97,  99, 100, 104, 106, 108, 109, 110, 111, 112, 113,\n",
       "       114, 115, 116, 117, 118, 119, 121, 127, 130, 131, 133, 134, 136,\n",
       "       137, 138, 139])"
      ]
     },
     "execution_count": 41,
     "metadata": {},
     "output_type": "execute_result"
    }
   ],
   "source": [
    "idx = np.where(mse_lgb < mse_nn)[0]\n",
    "print(len(idx))\n",
    "idx"
   ]
  },
  {
   "cell_type": "code",
   "execution_count": 37,
   "metadata": {},
   "outputs": [
    {
     "data": {
      "text/plain": [
       "array([[ 2.0027757 , -0.14023319, -0.04327662, ...,  0.36001372,\n",
       "        -1.2928327 ,  1.597052  ],\n",
       "       [-0.28304344,  0.04797234,  0.14927372, ..., -0.20170508,\n",
       "         1.2102768 ,  6.675041  ],\n",
       "       [-0.71534777, -0.49915326, -0.41048253, ..., -0.7506912 ,\n",
       "         1.5325812 ,  1.217305  ],\n",
       "       ...,\n",
       "       [-0.41715258,  1.7934265 ,  0.06119077, ...,  0.6489624 ,\n",
       "         1.8710786 ,  3.0164864 ],\n",
       "       [-0.23028766,  0.3895501 ,  1.3501713 , ..., -0.444369  ,\n",
       "         2.7940578 ,  4.698568  ],\n",
       "       [-0.14509758, -0.34723133,  1.6988021 , ...,  1.0188603 ,\n",
       "         1.8840111 ,  5.6001663 ]], dtype=float32)"
      ]
     },
     "execution_count": 37,
     "metadata": {},
     "output_type": "execute_result"
    }
   ],
   "source": [
    "y_fold_true"
   ]
  },
  {
   "cell_type": "code",
   "execution_count": 42,
   "metadata": {},
   "outputs": [
    {
     "data": {
      "text/plain": [
       "array([-0.22213432, -0.12991849, -0.01208161, ..., -0.19248216,\n",
       "       -0.12941684, -0.5071277 ], dtype=float32)"
      ]
     },
     "execution_count": 42,
     "metadata": {},
     "output_type": "execute_result"
    }
   ],
   "source": [
    "idxs = np.where(y_fold_nn < 0)\n",
    "y_fold_nn[idxs[0], idxs[1]]"
   ]
  },
  {
   "cell_type": "code",
   "execution_count": 25,
   "metadata": {},
   "outputs": [
    {
     "data": {
      "text/plain": [
       "array([-0.02166236, -0.09636224, -0.01011171, ..., -0.01659816,\n",
       "       -0.0649613 , -0.01141472])"
      ]
     },
     "execution_count": 25,
     "metadata": {},
     "output_type": "execute_result"
    }
   ],
   "source": [
    "idxs = np.where(y_fold_lgb < 0)\n",
    "y_fold_lgb[idxs[0], idxs[1]]"
   ]
  },
  {
   "cell_type": "code",
   "execution_count": 2,
   "metadata": {},
   "outputs": [
    {
     "data": {
      "text/plain": [
       "Text(0.5, 1.0, 'Evolution of val_loss')"
      ]
     },
     "execution_count": 2,
     "metadata": {},
     "output_type": "execute_result"
    },
    {
     "data": {
      "image/png": "[encoded data removed]",
      "text/plain": [
       "<Figure size 432x288 with 1 Axes>"
      ]
     },
     "metadata": {
      "needs_background": "light"
     },
     "output_type": "display_data"
    }
   ],
   "source": [
    "MODEL_DIR = os.path.join(PATH_WORKING, 'pdl_cite_x512')\n",
    "\n",
    "fig, ax = plt.subplots()\n",
    "\n",
    "for k in range(10):\n",
    "    data = json.load(open(os.path.join(MODEL_DIR, f'fold_{k}', 'history.json'), 'r'))\n",
    "    ax.plot(data['val_loss'])\n",
    "\n",
    "ax.set_xlabel('epoch')\n",
    "ax.set_ylabel('loss')\n",
    "ax.set_title('Evolution of val_loss')"
   ]
  },
  {
   "cell_type": "code",
   "execution_count": null,
   "metadata": {
    "collapsed": true
   },
   "outputs": [],
   "source": []
  },
  {
   "cell_type": "code",
   "execution_count": 2,
   "metadata": {
    "collapsed": true
   },
   "outputs": [],
   "source": []
  },
  {
   "cell_type": "code",
   "execution_count": null,
   "metadata": {
    "collapsed": true
   },
   "outputs": [],
   "source": []
  },
  {
   "cell_type": "code",
   "execution_count": 54,
   "metadata": {
    "collapsed": true
   },
   "outputs": [],
   "source": [
    "MODEL_DIR = os.path.join(PATH_WORKING, 'pdl_cite_x512')\n",
    "k = 0\n",
    "n_samples = 100\n",
    "\n",
    "y_true = np.load(os.path.join(MODEL_DIR, f'fold_{k}', 'samples', 'y_true.npy'))\n",
    "\n",
    "preds = [np.load(os.path.join(MODEL_DIR, f'fold_{k}', 'samples', f'y_pred_{i}.npy')) for i in range(n_samples)]\n",
    "y_bayes = sum(preds)/n_samples\n",
    "\n",
    "y_freq = np.load(os.path.join(PATH_WORKING, 'nn_cite_x512', f'y_fold_{k}.npy'))"
   ]
  },
  {
   "cell_type": "code",
   "execution_count": 50,
   "metadata": {
    "collapsed": true
   },
   "outputs": [],
   "source": []
  },
  {
   "cell_type": "code",
   "execution_count": 61,
   "metadata": {},
   "outputs": [
    {
     "data": {
      "text/plain": [
       "<matplotlib.legend.Legend at 0x7efb6305d4d0>"
      ]
     },
     "execution_count": 61,
     "metadata": {},
     "output_type": "execute_result"
    },
    {
     "data": {
      "image/png": "[encoded data removed]",
      "text/plain": [
       "<Figure size 720x288 with 1 Axes>"
      ]
     },
     "metadata": {
      "needs_background": "light"
     },
     "output_type": "display_data"
    }
   ],
   "source": [
    "i = 10; j = 3;\n",
    "#data = [y_pred[i,j] for y_pred in preds]\n",
    "\n",
    "fig, ax = plt.subplots(figsize=(10, 4))\n",
    "\n",
    "ax.hist(data, bins=25, weights=(1/n_samples)*np.ones(n_samples), label='samples')\n",
    "ax.axvline(y_true[i,j], linestyle='solid', color='r', label='y_true')\n",
    "ax.axvline(y_freq[i,j], linestyle='solid', color='m', label='y_freq')\n",
    "ax.axvline(y_bayes[i,j], linestyle='dashed', color='g', label='y_bayes')\n",
    "#ax.axvline(np.median(data), linestyle='dashed', color='m', label='median')\n",
    "        \n",
    "ax.set_xlabel('Prediction')\n",
    "ax.set_ylabel('Probability')\n",
    "\n",
    "ax.legend()"
   ]
  },
  {
   "cell_type": "code",
   "execution_count": null,
   "metadata": {
    "collapsed": true
   },
   "outputs": [],
   "source": []
  },
  {
   "cell_type": "code",
   "execution_count": null,
   "metadata": {
    "collapsed": true
   },
   "outputs": [],
   "source": []
  },
  {
   "cell_type": "code",
   "execution_count": 3,
   "metadata": {},
   "outputs": [
    {
     "name": "stdout",
     "output_type": "stream",
     "text": [
      "Model: \"model\"\n",
      "__________________________________________________________________________________________________\n",
      "Layer (type)                    Output Shape         Param #     Connected to                     \n",
      "==================================================================================================\n",
      "input_1 (InputLayer)            [(None, 512)]        0                                            \n",
      "__________________________________________________________________________________________________\n",
      "dense (Dense)                   (None, 256)          131328      input_1[0][0]                    \n",
      "__________________________________________________________________________________________________\n",
      "batch_normalization (BatchNorma (None, 256)          1024        dense[0][0]                      \n",
      "__________________________________________________________________________________________________\n",
      "dense_1 (Dense)                 (None, 128)          32896       batch_normalization[0][0]        \n",
      "__________________________________________________________________________________________________\n",
      "batch_normalization_1 (BatchNor (None, 128)          512         dense_1[0][0]                    \n",
      "__________________________________________________________________________________________________\n",
      "dense_2 (Dense)                 (None, 2144)         276576      batch_normalization_1[0][0]      \n",
      "__________________________________________________________________________________________________\n",
      "multivariate_normal_tri_l (Mult multiple             256         dense_2[0][0]                    \n",
      "__________________________________________________________________________________________________\n",
      "decoder (Sequential)            multiple             304512      multivariate_normal_tri_l[0][0]  \n",
      "__________________________________________________________________________________________________\n",
      "predictor (Sequential)          multiple             308784      multivariate_normal_tri_l[0][0]  \n",
      "==================================================================================================\n",
      "Total params: 1,055,888\n",
      "Trainable params: 1,055,120\n",
      "Non-trainable params: 768\n",
      "__________________________________________________________________________________________________\n"
     ]
    }
   ],
   "source": [
    "import tensorflow as tf\n",
    "import bayesian_builder as builder\n",
    "tf.keras.backend.clear_session()\n",
    "model = builder.build_ffn_vae(n_features=512, n_targets=140, latent_dim=64, units=[256, 128], data_size=70000)\n",
    "model.summary()"
   ]
  },
  {
   "cell_type": "code",
   "execution_count": 2,
   "metadata": {},
   "outputs": [
    {
     "data": {
      "image/png": "[encoded data removed]",
      "text/plain": [
       "<IPython.core.display.Image object>"
      ]
     },
     "execution_count": 2,
     "metadata": {},
     "output_type": "execute_result"
    }
   ],
   "source": [
    "tf.keras.utils.plot_model(model, show_shapes=True, show_layer_names=True)"
   ]
  },
  {
   "cell_type": "code",
   "execution_count": 17,
   "metadata": {
    "collapsed": true
   },
   "outputs": [],
   "source": []
  },
  {
   "cell_type": "code",
   "execution_count": 52,
   "metadata": {
    "collapsed": true
   },
   "outputs": [],
   "source": [
    "X_test = pd.read_hdf(FP_CITE_TEST_INPUTS)\n",
    "X_test_27678 = pd.read_hdf(FP_CITE_TEST_INPUTS_day_2_donor_27678)\n",
    "X_unlabeled = pd.concat([X_test[7476:], X_test_27678], axis=0)"
   ]
  },
  {
   "cell_type": "code",
   "execution_count": null,
   "metadata": {
    "collapsed": true
   },
   "outputs": [],
   "source": []
  },
  {
   "cell_type": "code",
   "execution_count": 21,
   "metadata": {},
   "outputs": [
    {
     "data": {
      "text/html": [
       "<div>\n",
       "<style scoped>\n",
       "    .dataframe tbody tr th:only-of-type {\n",
       "        vertical-align: middle;\n",
       "    }\n",
       "\n",
       "    .dataframe tbody tr th {\n",
       "        vertical-align: top;\n",
       "    }\n",
       "\n",
       "    .dataframe thead th {\n",
       "        text-align: right;\n",
       "    }\n",
       "</style>\n",
       "<table border=\"1\" class=\"dataframe\">\n",
       "  <thead>\n",
       "    <tr style=\"text-align: right;\">\n",
       "      <th>gene_id</th>\n",
       "      <th>ENSG00000121410_A1BG</th>\n",
       "      <th>ENSG00000268895_A1BG-AS1</th>\n",
       "      <th>ENSG00000175899_A2M</th>\n",
       "      <th>ENSG00000245105_A2M-AS1</th>\n",
       "      <th>ENSG00000166535_A2ML1</th>\n",
       "      <th>ENSG00000128274_A4GALT</th>\n",
       "      <th>ENSG00000094914_AAAS</th>\n",
       "      <th>ENSG00000081760_AACS</th>\n",
       "      <th>ENSG00000109576_AADAT</th>\n",
       "      <th>ENSG00000103591_AAGAB</th>\n",
       "      <th>...</th>\n",
       "      <th>ENSG00000153975_ZUP1</th>\n",
       "      <th>ENSG00000086827_ZW10</th>\n",
       "      <th>ENSG00000174442_ZWILCH</th>\n",
       "      <th>ENSG00000122952_ZWINT</th>\n",
       "      <th>ENSG00000198205_ZXDA</th>\n",
       "      <th>ENSG00000198455_ZXDB</th>\n",
       "      <th>ENSG00000070476_ZXDC</th>\n",
       "      <th>ENSG00000162378_ZYG11B</th>\n",
       "      <th>ENSG00000159840_ZYX</th>\n",
       "      <th>ENSG00000074755_ZZEF1</th>\n",
       "    </tr>\n",
       "    <tr>\n",
       "      <th>cell_id</th>\n",
       "      <th></th>\n",
       "      <th></th>\n",
       "      <th></th>\n",
       "      <th></th>\n",
       "      <th></th>\n",
       "      <th></th>\n",
       "      <th></th>\n",
       "      <th></th>\n",
       "      <th></th>\n",
       "      <th></th>\n",
       "      <th></th>\n",
       "      <th></th>\n",
       "      <th></th>\n",
       "      <th></th>\n",
       "      <th></th>\n",
       "      <th></th>\n",
       "      <th></th>\n",
       "      <th></th>\n",
       "      <th></th>\n",
       "      <th></th>\n",
       "      <th></th>\n",
       "    </tr>\n",
       "  </thead>\n",
       "  <tbody>\n",
       "    <tr>\n",
       "      <th>45006fe3e4c8</th>\n",
       "      <td>0.0</td>\n",
       "      <td>0.0</td>\n",
       "      <td>0.0</td>\n",
       "      <td>0.0</td>\n",
       "      <td>0.0</td>\n",
       "      <td>0.000000</td>\n",
       "      <td>0.000000</td>\n",
       "      <td>0.000000</td>\n",
       "      <td>0.000000</td>\n",
       "      <td>0.0</td>\n",
       "      <td>...</td>\n",
       "      <td>0.000000</td>\n",
       "      <td>0.000000</td>\n",
       "      <td>0.000000</td>\n",
       "      <td>0.000000</td>\n",
       "      <td>0.0</td>\n",
       "      <td>0.0</td>\n",
       "      <td>0.00000</td>\n",
       "      <td>0.000000</td>\n",
       "      <td>4.090185</td>\n",
       "      <td>0.0</td>\n",
       "    </tr>\n",
       "    <tr>\n",
       "      <th>d02759a80ba2</th>\n",
       "      <td>0.0</td>\n",
       "      <td>0.0</td>\n",
       "      <td>0.0</td>\n",
       "      <td>0.0</td>\n",
       "      <td>0.0</td>\n",
       "      <td>0.000000</td>\n",
       "      <td>0.000000</td>\n",
       "      <td>0.000000</td>\n",
       "      <td>0.000000</td>\n",
       "      <td>0.0</td>\n",
       "      <td>...</td>\n",
       "      <td>0.000000</td>\n",
       "      <td>0.000000</td>\n",
       "      <td>0.000000</td>\n",
       "      <td>4.039545</td>\n",
       "      <td>0.0</td>\n",
       "      <td>0.0</td>\n",
       "      <td>0.00000</td>\n",
       "      <td>0.000000</td>\n",
       "      <td>0.000000</td>\n",
       "      <td>0.0</td>\n",
       "    </tr>\n",
       "    <tr>\n",
       "      <th>c016c6b0efa5</th>\n",
       "      <td>0.0</td>\n",
       "      <td>0.0</td>\n",
       "      <td>0.0</td>\n",
       "      <td>0.0</td>\n",
       "      <td>0.0</td>\n",
       "      <td>3.847321</td>\n",
       "      <td>0.000000</td>\n",
       "      <td>3.847321</td>\n",
       "      <td>3.847321</td>\n",
       "      <td>0.0</td>\n",
       "      <td>...</td>\n",
       "      <td>0.000000</td>\n",
       "      <td>0.000000</td>\n",
       "      <td>3.847321</td>\n",
       "      <td>4.529743</td>\n",
       "      <td>0.0</td>\n",
       "      <td>0.0</td>\n",
       "      <td>0.00000</td>\n",
       "      <td>3.847321</td>\n",
       "      <td>3.847321</td>\n",
       "      <td>0.0</td>\n",
       "    </tr>\n",
       "    <tr>\n",
       "      <th>ba7f733a4f75</th>\n",
       "      <td>0.0</td>\n",
       "      <td>0.0</td>\n",
       "      <td>0.0</td>\n",
       "      <td>0.0</td>\n",
       "      <td>0.0</td>\n",
       "      <td>0.000000</td>\n",
       "      <td>3.436846</td>\n",
       "      <td>3.436846</td>\n",
       "      <td>0.000000</td>\n",
       "      <td>0.0</td>\n",
       "      <td>...</td>\n",
       "      <td>3.436846</td>\n",
       "      <td>0.000000</td>\n",
       "      <td>4.113780</td>\n",
       "      <td>5.020215</td>\n",
       "      <td>0.0</td>\n",
       "      <td>0.0</td>\n",
       "      <td>0.00000</td>\n",
       "      <td>3.436846</td>\n",
       "      <td>4.113780</td>\n",
       "      <td>0.0</td>\n",
       "    </tr>\n",
       "    <tr>\n",
       "      <th>fbcf2443ffb2</th>\n",
       "      <td>0.0</td>\n",
       "      <td>0.0</td>\n",
       "      <td>0.0</td>\n",
       "      <td>0.0</td>\n",
       "      <td>0.0</td>\n",
       "      <td>0.000000</td>\n",
       "      <td>0.000000</td>\n",
       "      <td>4.196826</td>\n",
       "      <td>0.000000</td>\n",
       "      <td>0.0</td>\n",
       "      <td>...</td>\n",
       "      <td>0.000000</td>\n",
       "      <td>4.196826</td>\n",
       "      <td>4.196826</td>\n",
       "      <td>4.196826</td>\n",
       "      <td>0.0</td>\n",
       "      <td>0.0</td>\n",
       "      <td>3.51861</td>\n",
       "      <td>4.196826</td>\n",
       "      <td>3.518610</td>\n",
       "      <td>0.0</td>\n",
       "    </tr>\n",
       "  </tbody>\n",
       "</table>\n",
       "<p>5 rows × 22050 columns</p>\n",
       "</div>"
      ],
      "text/plain": [
       "gene_id       ENSG00000121410_A1BG  ENSG00000268895_A1BG-AS1  \\\n",
       "cell_id                                                        \n",
       "45006fe3e4c8                   0.0                       0.0   \n",
       "d02759a80ba2                   0.0                       0.0   \n",
       "c016c6b0efa5                   0.0                       0.0   \n",
       "ba7f733a4f75                   0.0                       0.0   \n",
       "fbcf2443ffb2                   0.0                       0.0   \n",
       "\n",
       "gene_id       ENSG00000175899_A2M  ENSG00000245105_A2M-AS1  \\\n",
       "cell_id                                                      \n",
       "45006fe3e4c8                  0.0                      0.0   \n",
       "d02759a80ba2                  0.0                      0.0   \n",
       "c016c6b0efa5                  0.0                      0.0   \n",
       "ba7f733a4f75                  0.0                      0.0   \n",
       "fbcf2443ffb2                  0.0                      0.0   \n",
       "\n",
       "gene_id       ENSG00000166535_A2ML1  ENSG00000128274_A4GALT  \\\n",
       "cell_id                                                       \n",
       "45006fe3e4c8                    0.0                0.000000   \n",
       "d02759a80ba2                    0.0                0.000000   \n",
       "c016c6b0efa5                    0.0                3.847321   \n",
       "ba7f733a4f75                    0.0                0.000000   \n",
       "fbcf2443ffb2                    0.0                0.000000   \n",
       "\n",
       "gene_id       ENSG00000094914_AAAS  ENSG00000081760_AACS  \\\n",
       "cell_id                                                    \n",
       "45006fe3e4c8              0.000000              0.000000   \n",
       "d02759a80ba2              0.000000              0.000000   \n",
       "c016c6b0efa5              0.000000              3.847321   \n",
       "ba7f733a4f75              3.436846              3.436846   \n",
       "fbcf2443ffb2              0.000000              4.196826   \n",
       "\n",
       "gene_id       ENSG00000109576_AADAT  ENSG00000103591_AAGAB  ...  \\\n",
       "cell_id                                                     ...   \n",
       "45006fe3e4c8               0.000000                    0.0  ...   \n",
       "d02759a80ba2               0.000000                    0.0  ...   \n",
       "c016c6b0efa5               3.847321                    0.0  ...   \n",
       "ba7f733a4f75               0.000000                    0.0  ...   \n",
       "fbcf2443ffb2               0.000000                    0.0  ...   \n",
       "\n",
       "gene_id       ENSG00000153975_ZUP1  ENSG00000086827_ZW10  \\\n",
       "cell_id                                                    \n",
       "45006fe3e4c8              0.000000              0.000000   \n",
       "d02759a80ba2              0.000000              0.000000   \n",
       "c016c6b0efa5              0.000000              0.000000   \n",
       "ba7f733a4f75              3.436846              0.000000   \n",
       "fbcf2443ffb2              0.000000              4.196826   \n",
       "\n",
       "gene_id       ENSG00000174442_ZWILCH  ENSG00000122952_ZWINT  \\\n",
       "cell_id                                                       \n",
       "45006fe3e4c8                0.000000               0.000000   \n",
       "d02759a80ba2                0.000000               4.039545   \n",
       "c016c6b0efa5                3.847321               4.529743   \n",
       "ba7f733a4f75                4.113780               5.020215   \n",
       "fbcf2443ffb2                4.196826               4.196826   \n",
       "\n",
       "gene_id       ENSG00000198205_ZXDA  ENSG00000198455_ZXDB  \\\n",
       "cell_id                                                    \n",
       "45006fe3e4c8                   0.0                   0.0   \n",
       "d02759a80ba2                   0.0                   0.0   \n",
       "c016c6b0efa5                   0.0                   0.0   \n",
       "ba7f733a4f75                   0.0                   0.0   \n",
       "fbcf2443ffb2                   0.0                   0.0   \n",
       "\n",
       "gene_id       ENSG00000070476_ZXDC  ENSG00000162378_ZYG11B  \\\n",
       "cell_id                                                      \n",
       "45006fe3e4c8               0.00000                0.000000   \n",
       "d02759a80ba2               0.00000                0.000000   \n",
       "c016c6b0efa5               0.00000                3.847321   \n",
       "ba7f733a4f75               0.00000                3.436846   \n",
       "fbcf2443ffb2               3.51861                4.196826   \n",
       "\n",
       "gene_id       ENSG00000159840_ZYX  ENSG00000074755_ZZEF1  \n",
       "cell_id                                                   \n",
       "45006fe3e4c8             4.090185                    0.0  \n",
       "d02759a80ba2             0.000000                    0.0  \n",
       "c016c6b0efa5             3.847321                    0.0  \n",
       "ba7f733a4f75             4.113780                    0.0  \n",
       "fbcf2443ffb2             3.518610                    0.0  \n",
       "\n",
       "[5 rows x 22050 columns]"
      ]
     },
     "execution_count": 21,
     "metadata": {},
     "output_type": "execute_result"
    }
   ],
   "source": [
    "X_train = pd.read_hdf(FP_CITE_TRAIN_INPUTS)\n",
    "X_train.head()"
   ]
  },
  {
   "cell_type": "code",
   "execution_count": 22,
   "metadata": {},
   "outputs": [
    {
     "data": {
      "text/plain": [
       "Index(['45006fe3e4c8', 'd02759a80ba2', 'c016c6b0efa5', 'ba7f733a4f75',\n",
       "       'fbcf2443ffb2', 'd80d84ca8e89', '1ac2049b4c98', '33fb0c29e2e4',\n",
       "       'b329261bd0ee', '703762287e88',\n",
       "       ...\n",
       "       'f901120ab887', 'e3780c598532', '663da056425f', '10b466d6898b',\n",
       "       '4d22a430b2b8', '650ee456f0f3', 'cc506e7707f5', 'a91f1b55a520',\n",
       "       '3a9882c98205', 'c91b6b2ccd3d'],\n",
       "      dtype='object', name='cell_id', length=70988)"
      ]
     },
     "execution_count": 22,
     "metadata": {},
     "output_type": "execute_result"
    }
   ],
   "source": [
    "X_train.index"
   ]
  },
  {
   "cell_type": "code",
   "execution_count": 23,
   "metadata": {},
   "outputs": [
    {
     "data": {
      "text/html": [
       "<div>\n",
       "<style scoped>\n",
       "    .dataframe tbody tr th:only-of-type {\n",
       "        vertical-align: middle;\n",
       "    }\n",
       "\n",
       "    .dataframe tbody tr th {\n",
       "        vertical-align: top;\n",
       "    }\n",
       "\n",
       "    .dataframe thead th {\n",
       "        text-align: right;\n",
       "    }\n",
       "</style>\n",
       "<table border=\"1\" class=\"dataframe\">\n",
       "  <thead>\n",
       "    <tr style=\"text-align: right;\">\n",
       "      <th></th>\n",
       "      <th>day</th>\n",
       "      <th>donor</th>\n",
       "      <th>cell_type</th>\n",
       "      <th>technology</th>\n",
       "    </tr>\n",
       "    <tr>\n",
       "      <th>cell_id</th>\n",
       "      <th></th>\n",
       "      <th></th>\n",
       "      <th></th>\n",
       "      <th></th>\n",
       "    </tr>\n",
       "  </thead>\n",
       "  <tbody>\n",
       "    <tr>\n",
       "      <th>c2150f55becb</th>\n",
       "      <td>2</td>\n",
       "      <td>27678</td>\n",
       "      <td>HSC</td>\n",
       "      <td>citeseq</td>\n",
       "    </tr>\n",
       "    <tr>\n",
       "      <th>65b7edf8a4da</th>\n",
       "      <td>2</td>\n",
       "      <td>27678</td>\n",
       "      <td>HSC</td>\n",
       "      <td>citeseq</td>\n",
       "    </tr>\n",
       "    <tr>\n",
       "      <th>c1b26cb1057b</th>\n",
       "      <td>2</td>\n",
       "      <td>27678</td>\n",
       "      <td>EryP</td>\n",
       "      <td>citeseq</td>\n",
       "    </tr>\n",
       "    <tr>\n",
       "      <th>917168fa6f83</th>\n",
       "      <td>2</td>\n",
       "      <td>27678</td>\n",
       "      <td>NeuP</td>\n",
       "      <td>citeseq</td>\n",
       "    </tr>\n",
       "    <tr>\n",
       "      <th>2b29feeca86d</th>\n",
       "      <td>2</td>\n",
       "      <td>27678</td>\n",
       "      <td>EryP</td>\n",
       "      <td>citeseq</td>\n",
       "    </tr>\n",
       "  </tbody>\n",
       "</table>\n",
       "</div>"
      ],
      "text/plain": [
       "              day  donor cell_type technology\n",
       "cell_id                                      \n",
       "c2150f55becb    2  27678       HSC    citeseq\n",
       "65b7edf8a4da    2  27678       HSC    citeseq\n",
       "c1b26cb1057b    2  27678      EryP    citeseq\n",
       "917168fa6f83    2  27678      NeuP    citeseq\n",
       "2b29feeca86d    2  27678      EryP    citeseq"
      ]
     },
     "execution_count": 23,
     "metadata": {},
     "output_type": "execute_result"
    }
   ],
   "source": [
    "metadata_df = pd.read_csv(FP_CELL_METADATA)\n",
    "metadata_df = pd.read_csv(FP_CELL_METADATA, index_col='cell_id')\n",
    "#metadata_df = metadata_df[metadata_df.technology==\"citeseq\"]\n",
    "metadata_df.head()"
   ]
  },
  {
   "cell_type": "code",
   "execution_count": 29,
   "metadata": {
    "collapsed": true
   },
   "outputs": [],
   "source": [
    "metadata_df2 = pd.read_csv(os.path.join(PATH_DATA, \"metadata_cite_day_2_donor_27678.csv\"))"
   ]
  },
  {
   "cell_type": "code",
   "execution_count": 31,
   "metadata": {},
   "outputs": [
    {
     "data": {
      "text/plain": [
       "set()"
      ]
     },
     "execution_count": 31,
     "metadata": {},
     "output_type": "execute_result"
    }
   ],
   "source": [
    "set(metadata_df.index) & set(metadata_df2.index)"
   ]
  },
  {
   "cell_type": "code",
   "execution_count": null,
   "metadata": {
    "collapsed": true
   },
   "outputs": [],
   "source": [
    "dstype = 'cite'\n",
    "for key in ['train', 'test', 'unlabeled']:\n",
    "    meta = np.load(os.path.join(PATH_WORKING, f'metadata_{dstype}', f'X_{key}.npy'))\n",
    "    print(key)\n",
    "    print('min:', meta.min(axis=0))\n",
    "    print('max:', meta.max(axis=0))"
   ]
  },
  {
   "cell_type": "code",
   "execution_count": null,
   "metadata": {
    "collapsed": true
   },
   "outputs": [],
   "source": []
  },
  {
   "cell_type": "code",
   "execution_count": null,
   "metadata": {
    "collapsed": true
   },
   "outputs": [],
   "source": []
  },
  {
   "cell_type": "code",
   "execution_count": 1,
   "metadata": {
    "scrolled": true
   },
   "outputs": [
    {
     "name": "stderr",
     "output_type": "stream",
     "text": [
      "2022-10-31 12:43:21.210188: W tensorflow/stream_executor/platform/default/dso_loader.cc:64] Could not load dynamic library 'libcudart.so.11.0'; dlerror: libcudart.so.11.0: cannot open shared object file: No such file or directory; LD_LIBRARY_PATH: /usr/hadoop/lib/native/:/usr/local/cuda-9.0/targets/x86_64-linux/lib/:/usr/local/cuda-9.0/targets/x86_64-linux/lib64/:/usr/hadoop/lib/native/:/usr/local/cuda-9.0/targets/x86_64-linux/lib/:/usr/local/cuda-9.0/targets/x86_64-linux/lib64/::/usr/local/cuda/lib64:/usr/local/cuda/extras/CUPTI/lib64:/usr/local/cuda/lib64:/usr/local/cuda/extras/CUPTI/lib64:/usr/hadoop/lib/native:/usr/hadoop/lib/native/Linux-amd64-64\n",
      "2022-10-31 12:43:21.210258: I tensorflow/stream_executor/cuda/cudart_stub.cc:29] Ignore above cudart dlerror if you do not have a GPU set up on your machine.\n"
     ]
    },
    {
     "name": "stdout",
     "output_type": "stream",
     "text": [
      "TF version: 2.6.0\n",
      "TFP version: 0.14.0\n"
     ]
    },
    {
     "name": "stderr",
     "output_type": "stream",
     "text": [
      "2022-10-31 12:43:23.436915: W tensorflow/stream_executor/platform/default/dso_loader.cc:64] Could not load dynamic library 'libcudart.so.11.0'; dlerror: libcudart.so.11.0: cannot open shared object file: No such file or directory; LD_LIBRARY_PATH: /usr/hadoop/lib/native/:/usr/local/cuda-9.0/targets/x86_64-linux/lib/:/usr/local/cuda-9.0/targets/x86_64-linux/lib64/:/usr/hadoop/lib/native/:/usr/local/cuda-9.0/targets/x86_64-linux/lib/:/usr/local/cuda-9.0/targets/x86_64-linux/lib64/::/usr/local/cuda/lib64:/usr/local/cuda/extras/CUPTI/lib64:/usr/local/cuda/lib64:/usr/local/cuda/extras/CUPTI/lib64:/usr/hadoop/lib/native:/usr/hadoop/lib/native/Linux-amd64-64\n",
      "2022-10-31 12:43:23.437118: W tensorflow/stream_executor/platform/default/dso_loader.cc:64] Could not load dynamic library 'libcublas.so.11'; dlerror: libcublas.so.11: cannot open shared object file: No such file or directory; LD_LIBRARY_PATH: /usr/hadoop/lib/native/:/usr/local/cuda-9.0/targets/x86_64-linux/lib/:/usr/local/cuda-9.0/targets/x86_64-linux/lib64/:/usr/hadoop/lib/native/:/usr/local/cuda-9.0/targets/x86_64-linux/lib/:/usr/local/cuda-9.0/targets/x86_64-linux/lib64/::/usr/local/cuda/lib64:/usr/local/cuda/extras/CUPTI/lib64:/usr/local/cuda/lib64:/usr/local/cuda/extras/CUPTI/lib64:/usr/hadoop/lib/native:/usr/hadoop/lib/native/Linux-amd64-64\n",
      "2022-10-31 12:43:23.437287: W tensorflow/stream_executor/platform/default/dso_loader.cc:64] Could not load dynamic library 'libcublasLt.so.11'; dlerror: libcublasLt.so.11: cannot open shared object file: No such file or directory; LD_LIBRARY_PATH: /usr/hadoop/lib/native/:/usr/local/cuda-9.0/targets/x86_64-linux/lib/:/usr/local/cuda-9.0/targets/x86_64-linux/lib64/:/usr/hadoop/lib/native/:/usr/local/cuda-9.0/targets/x86_64-linux/lib/:/usr/local/cuda-9.0/targets/x86_64-linux/lib64/::/usr/local/cuda/lib64:/usr/local/cuda/extras/CUPTI/lib64:/usr/local/cuda/lib64:/usr/local/cuda/extras/CUPTI/lib64:/usr/hadoop/lib/native:/usr/hadoop/lib/native/Linux-amd64-64\n",
      "2022-10-31 12:43:23.437431: W tensorflow/stream_executor/platform/default/dso_loader.cc:64] Could not load dynamic library 'libcufft.so.10'; dlerror: libcufft.so.10: cannot open shared object file: No such file or directory; LD_LIBRARY_PATH: /usr/hadoop/lib/native/:/usr/local/cuda-9.0/targets/x86_64-linux/lib/:/usr/local/cuda-9.0/targets/x86_64-linux/lib64/:/usr/hadoop/lib/native/:/usr/local/cuda-9.0/targets/x86_64-linux/lib/:/usr/local/cuda-9.0/targets/x86_64-linux/lib64/::/usr/local/cuda/lib64:/usr/local/cuda/extras/CUPTI/lib64:/usr/local/cuda/lib64:/usr/local/cuda/extras/CUPTI/lib64:/usr/hadoop/lib/native:/usr/hadoop/lib/native/Linux-amd64-64\n",
      "2022-10-31 12:43:23.437612: W tensorflow/stream_executor/platform/default/dso_loader.cc:64] Could not load dynamic library 'libcurand.so.10'; dlerror: libcurand.so.10: cannot open shared object file: No such file or directory; LD_LIBRARY_PATH: /usr/hadoop/lib/native/:/usr/local/cuda-9.0/targets/x86_64-linux/lib/:/usr/local/cuda-9.0/targets/x86_64-linux/lib64/:/usr/hadoop/lib/native/:/usr/local/cuda-9.0/targets/x86_64-linux/lib/:/usr/local/cuda-9.0/targets/x86_64-linux/lib64/::/usr/local/cuda/lib64:/usr/local/cuda/extras/CUPTI/lib64:/usr/local/cuda/lib64:/usr/local/cuda/extras/CUPTI/lib64:/usr/hadoop/lib/native:/usr/hadoop/lib/native/Linux-amd64-64\n",
      "2022-10-31 12:43:23.437793: W tensorflow/stream_executor/platform/default/dso_loader.cc:64] Could not load dynamic library 'libcusolver.so.11'; dlerror: libcusolver.so.11: cannot open shared object file: No such file or directory; LD_LIBRARY_PATH: /usr/hadoop/lib/native/:/usr/local/cuda-9.0/targets/x86_64-linux/lib/:/usr/local/cuda-9.0/targets/x86_64-linux/lib64/:/usr/hadoop/lib/native/:/usr/local/cuda-9.0/targets/x86_64-linux/lib/:/usr/local/cuda-9.0/targets/x86_64-linux/lib64/::/usr/local/cuda/lib64:/usr/local/cuda/extras/CUPTI/lib64:/usr/local/cuda/lib64:/usr/local/cuda/extras/CUPTI/lib64:/usr/hadoop/lib/native:/usr/hadoop/lib/native/Linux-amd64-64\n",
      "2022-10-31 12:43:23.438157: W tensorflow/stream_executor/platform/default/dso_loader.cc:64] Could not load dynamic library 'libcusparse.so.11'; dlerror: libcusparse.so.11: cannot open shared object file: No such file or directory; LD_LIBRARY_PATH: /usr/hadoop/lib/native/:/usr/local/cuda-9.0/targets/x86_64-linux/lib/:/usr/local/cuda-9.0/targets/x86_64-linux/lib64/:/usr/hadoop/lib/native/:/usr/local/cuda-9.0/targets/x86_64-linux/lib/:/usr/local/cuda-9.0/targets/x86_64-linux/lib64/::/usr/local/cuda/lib64:/usr/local/cuda/extras/CUPTI/lib64:/usr/local/cuda/lib64:/usr/local/cuda/extras/CUPTI/lib64:/usr/hadoop/lib/native:/usr/hadoop/lib/native/Linux-amd64-64\n",
      "2022-10-31 12:43:23.438306: W tensorflow/stream_executor/platform/default/dso_loader.cc:64] Could not load dynamic library 'libcudnn.so.8'; dlerror: libcudnn.so.8: cannot open shared object file: No such file or directory; LD_LIBRARY_PATH: /usr/hadoop/lib/native/:/usr/local/cuda-9.0/targets/x86_64-linux/lib/:/usr/local/cuda-9.0/targets/x86_64-linux/lib64/:/usr/hadoop/lib/native/:/usr/local/cuda-9.0/targets/x86_64-linux/lib/:/usr/local/cuda-9.0/targets/x86_64-linux/lib64/::/usr/local/cuda/lib64:/usr/local/cuda/extras/CUPTI/lib64:/usr/local/cuda/lib64:/usr/local/cuda/extras/CUPTI/lib64:/usr/hadoop/lib/native:/usr/hadoop/lib/native/Linux-amd64-64\n",
      "2022-10-31 12:43:23.438342: W tensorflow/core/common_runtime/gpu/gpu_device.cc:1835] Cannot dlopen some GPU libraries. Please make sure the missing libraries mentioned above are installed properly if you would like to use GPU. Follow the guide at https://www.tensorflow.org/install/gpu for how to download and setup the required libraries for your platform.\n",
      "Skipping registering GPU devices...\n",
      "2022-10-31 12:43:23.441342: I tensorflow/core/platform/cpu_feature_guard.cc:142] This TensorFlow binary is optimized with oneAPI Deep Neural Network Library (oneDNN) to use the following CPU instructions in performance-critical operations:  AVX2 FMA\n",
      "To enable them in other operations, rebuild TensorFlow with the appropriate compiler flags.\n",
      "2022-10-31 12:43:24.475221: W tensorflow/python/util/util.cc:348] Sets are not currently considered sequences, but this may change in the future, so consider avoiding using them.\n"
     ]
    }
   ],
   "source": [
    "from bayesian_builder3 import *\n",
    "\n",
    "n_features = {'cite': 512, 'multi': 512}\n",
    "n_targets = {'cite': 140, 'multi': 512}\n",
    "latent_dim = 64\n",
    "units = [256, 128]\n",
    "data_size = {'cite': 70000, 'multi': 100000}\n",
    "\n",
    "model = CellModel(n_features, n_targets, latent_dim, units, data_size)"
   ]
  },
  {
   "cell_type": "code",
   "execution_count": null,
   "metadata": {
    "collapsed": true
   },
   "outputs": [],
   "source": []
  },
  {
   "cell_type": "code",
   "execution_count": 2,
   "metadata": {},
   "outputs": [
    {
     "name": "stderr",
     "output_type": "stream",
     "text": [
      "2022-10-31 12:43:26.913692: I tensorflow/compiler/mlir/mlir_graph_optimization_pass.cc:185] None of the MLIR Optimization Passes are enabled (registered 2)\n"
     ]
    },
    {
     "data": {
      "text/plain": [
       "(16, 140)"
      ]
     },
     "execution_count": 2,
     "metadata": {},
     "output_type": "execute_result"
    }
   ],
   "source": [
    "import numpy as np\n",
    "feat = np.random.randn(16, 512)\n",
    "meta = np.random.randint(0, 2, (16,4))\n",
    "\n",
    "inputs = {'cite': np.concatenate([feat, meta], axis=1).astype('float32'), \n",
    "          'multi': np.concatenate([feat, meta], axis=1).astype('float32')}\n",
    "\n",
    "targets = {'cite': np.random.randn(16, n_targets['cite']).astype('float32'), \n",
    "           'multi': np.random.randn(16, n_targets['multi']).astype('float32')}\n",
    "\n",
    "outputs = model.predict(inputs)\n",
    "outputs['cite'].shape"
   ]
  },
  {
   "cell_type": "code",
   "execution_count": 3,
   "metadata": {},
   "outputs": [
    {
     "name": "stdout",
     "output_type": "stream",
     "text": [
      "Model: \"cell_model\"\n",
      "_________________________________________________________________\n",
      "Layer (type)                 Output Shape              Param #   \n",
      "=================================================================\n",
      "embedding_metadata (Embeddin multiple                  32        \n",
      "_________________________________________________________________\n",
      "main_prior (MainPrior)       multiple                  534228    \n",
      "_________________________________________________________________\n",
      "lambda (Lambda)              multiple                  0         \n",
      "_________________________________________________________________\n",
      "encoder_cite (Sequential)    multiple                  443872    \n",
      "_________________________________________________________________\n",
      "encoder_multi (Sequential)   multiple                  443872    \n",
      "_________________________________________________________________\n",
      "decoder_cite (Sequential)    multiple                  304512    \n",
      "_________________________________________________________________\n",
      "decoder_multi (Sequential)   multiple                  304512    \n",
      "_________________________________________________________________\n",
      "predictor_cite (Sequential)  multiple                  308784    \n",
      "_________________________________________________________________\n",
      "predictor_multi (Sequential) multiple                  691200    \n",
      "_________________________________________________________________\n",
      "lambda_1 (Lambda)            multiple                  0         \n",
      "_________________________________________________________________\n",
      "lambda_2 (Lambda)            multiple                  0         \n",
      "=================================================================\n",
      "Total params: 3,031,012\n",
      "Trainable params: 3,029,476\n",
      "Non-trainable params: 1,536\n",
      "_________________________________________________________________\n"
     ]
    }
   ],
   "source": [
    "model.summary()"
   ]
  },
  {
   "cell_type": "code",
   "execution_count": null,
   "metadata": {},
   "outputs": [],
   "source": []
  },
  {
   "cell_type": "code",
   "execution_count": 6,
   "metadata": {},
   "outputs": [
    {
     "data": {
      "text/plain": [
       "<tf.Tensor: shape=(2, 3), dtype=int32, numpy=\n",
       "array([[0, 0, 0],\n",
       "       [0, 0, 0]], dtype=int32)>"
      ]
     },
     "execution_count": 6,
     "metadata": {},
     "output_type": "execute_result"
    }
   ],
   "source": [
    "t = tf.constant([[1, 2, 3], [4, 5, 6]])\n",
    "tf.zeros_like(t)"
   ]
  },
  {
   "cell_type": "code",
   "execution_count": 17,
   "metadata": {},
   "outputs": [
    {
     "data": {
      "text/plain": [
       "10010"
      ]
     },
     "execution_count": 17,
     "metadata": {},
     "output_type": "execute_result"
    }
   ],
   "source": [
    "tfpl.MultivariateNormalTriL.params_size(140) * 64"
   ]
  },
  {
   "cell_type": "code",
   "execution_count": null,
   "metadata": {
    "collapsed": true
   },
   "outputs": [],
   "source": []
  }
 ],
 "metadata": {
  "kernelspec": {
   "display_name": "rden-py37-tf-cpu",
   "language": "python",
   "name": "rden-py37-tf-cpu"
  },
  "language_info": {
   "codemirror_mode": {
    "name": "ipython",
    "version": 3
   },
   "file_extension": ".py",
   "mimetype": "text/x-python",
   "name": "python",
   "nbconvert_exporter": "python",
   "pygments_lexer": "ipython3",
   "version": "3.7.7"
  },
  "papermill": {
   "default_parameters": {},
   "duration": 4421.801469,
   "end_time": "2022-08-21T01:14:10.737421",
   "environment_variables": {},
   "exception": null,
   "input_path": "__notebook__.ipynb",
   "output_path": "__notebook__.ipynb",
   "parameters": {},
   "start_time": "2022-08-21T00:00:28.935952",
   "version": "2.3.4"
  }
 },
 "nbformat": 4,
 "nbformat_minor": 5
}
