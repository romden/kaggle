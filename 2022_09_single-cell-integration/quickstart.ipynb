{
 "cells": [
  {
   "cell_type": "markdown",
   "metadata": {
    "_cell_guid": "b1076dfc-b9ad-4769-8c92-a6c4dae69d19",
    "_uuid": "8f2839f25d086af736a60e9eeb907d3b93b6e0e5",
    "papermill": {
     "duration": 0.006408,
     "end_time": "2022-08-21T00:00:38.723761",
     "exception": false,
     "start_time": "2022-08-21T00:00:38.717353",
     "status": "completed"
    },
    "tags": []
   },
   "source": [
    "OpenProblems / NeurIPS 2021 competition for multimodal single-cell data integration\n",
    "\n",
    "https://github.com/openproblems-bio/neurips2021_multimodal_topmethods"
   ]
  },
  {
   "cell_type": "code",
   "execution_count": 1,
   "metadata": {
    "_kg_hide-input": true,
    "execution": {
     "iopub.execute_input": "2022-08-21T00:00:38.736284Z",
     "iopub.status.busy": "2022-08-21T00:00:38.735780Z",
     "iopub.status.idle": "2022-08-21T00:00:40.064166Z",
     "shell.execute_reply": "2022-08-21T00:00:40.062781Z"
    },
    "papermill": {
     "duration": 1.33831,
     "end_time": "2022-08-21T00:00:40.067426",
     "exception": false,
     "start_time": "2022-08-21T00:00:38.729116",
     "status": "completed"
    },
    "tags": []
   },
   "outputs": [
    {
     "name": "stderr",
     "output_type": "stream",
     "text": [
      "2022-10-15 12:30:01.071461: W tensorflow/stream_executor/platform/default/dso_loader.cc:64] Could not load dynamic library 'libcudart.so.11.0'; dlerror: libcudart.so.11.0: cannot open shared object file: No such file or directory; LD_LIBRARY_PATH: /usr/hadoop/lib/native/:/usr/local/cuda-9.0/targets/x86_64-linux/lib/:/usr/local/cuda-9.0/targets/x86_64-linux/lib64/:/usr/hadoop/lib/native/:/usr/local/cuda-9.0/targets/x86_64-linux/lib/:/usr/local/cuda-9.0/targets/x86_64-linux/lib64/::/usr/local/cuda/lib64:/usr/local/cuda/extras/CUPTI/lib64:/usr/local/cuda/lib64:/usr/local/cuda/extras/CUPTI/lib64:/usr/hadoop/lib/native:/usr/hadoop/lib/native/Linux-amd64-64\n",
      "2022-10-15 12:30:01.071493: I tensorflow/stream_executor/cuda/cudart_stub.cc:29] Ignore above cudart dlerror if you do not have a GPU set up on your machine.\n"
     ]
    }
   ],
   "source": [
    "import numpy as np\n",
    "import pandas as pd\n",
    "\n",
    "import os, gc, pickle, json\n",
    "\n",
    "import matplotlib.pyplot as plt\n",
    "from colorama import Fore, Back, Style\n",
    "from matplotlib.ticker import MaxNLocator\n",
    "\n",
    "from sklearn.base import BaseEstimator, TransformerMixin\n",
    "from sklearn.pipeline import make_pipeline, Pipeline\n",
    "from sklearn.preprocessing import StandardScaler\n",
    "from sklearn.decomposition import PCA, TruncatedSVD\n",
    "from sklearn.linear_model import Ridge, LinearRegression\n",
    "from sklearn.dummy import DummyRegressor\n",
    "\n",
    "from sklearn.metrics import mean_squared_error\n",
    "from sklearn.model_selection import KFold\n",
    "\n",
    "import tensorflow as tf\n",
    "\n",
    "from config import *"
   ]
  },
  {
   "cell_type": "code",
   "execution_count": 33,
   "metadata": {
    "collapsed": true
   },
   "outputs": [],
   "source": [
    "DATA_DIR = os.path.join(PATH_WORKING, 'data_cite_x512')\n",
    "MODEL_DIR_nn = os.path.join(PATH_WORKING, 'nn_cite_x512')\n",
    "MODEL_DIR_lgb = os.path.join(PATH_WORKING, 'lgb_cite_x512')"
   ]
  },
  {
   "cell_type": "code",
   "execution_count": 34,
   "metadata": {
    "collapsed": true
   },
   "outputs": [],
   "source": [
    "y_true = pd.read_hdf(FP_CITE_TRAIN_TARGETS).values.astype('float32') "
   ]
  },
  {
   "cell_type": "code",
   "execution_count": 35,
   "metadata": {
    "collapsed": true
   },
   "outputs": [],
   "source": [
    "mse_nn = np.zeros((140,))\n",
    "mse_lgb = np.zeros((140,))\n",
    "\n",
    "for k, (train_index, test_index) in enumerate(KFold(n_splits=10, shuffle=True, random_state=SEED*4).split(y_true)):\n",
    "\n",
    "    y_fold_true = y_true[test_index]\n",
    "\n",
    "    y_fold_nn = np.load(os.path.join(MODEL_DIR_nn, f'y_fold_{k}.npy'))\n",
    "    y_fold_lgb = np.load(os.path.join(MODEL_DIR_lgb, f'y_fold_{k}.npy'))\n",
    "    \n",
    "    assert y_fold_true.shape == y_fold_nn.shape\n",
    "    assert y_fold_true.shape == y_fold_lgb.shape\n",
    "    assert y_fold_nn.shape == y_fold_lgb.shape\n",
    "    \n",
    "    # fix bounds for preds\n",
    "    lb = np.min(y_fold_true, axis=0, keepdims=True)\n",
    "    ub = np.max(y_fold_true, axis=0, keepdims=True)\n",
    "    y_fold_nn = np.clip(y_fold_nn, lb, ub)\n",
    "    y_fold_lgb = np.clip(y_fold_lgb, lb, ub)\n",
    "    \n",
    "    erros_nn = (y_fold_true - y_fold_nn)**2\n",
    "    erros_lgb = (y_fold_true - y_fold_lgb)**2\n",
    "    \n",
    "    mse_nn += np.mean(erros_nn, axis=0)\n",
    "    mse_lgb += np.mean(erros_lgb, axis=0)\n",
    "\n",
    "mse_nn /= 10\n",
    "mse_lgb /= 10"
   ]
  },
  {
   "cell_type": "code",
   "execution_count": 41,
   "metadata": {},
   "outputs": [
    {
     "name": "stdout",
     "output_type": "stream",
     "text": [
      "81\n"
     ]
    },
    {
     "data": {
      "text/plain": [
       "array([  0,   3,   4,   5,   6,   7,   8,   9,  13,  14,  15,  16,  17,\n",
       "        18,  20,  21,  24,  28,  29,  30,  37,  42,  43,  44,  45,  48,\n",
       "        50,  51,  52,  54,  55,  57,  58,  60,  61,  64,  68,  69,  70,\n",
       "        71,  73,  75,  77,  79,  80,  81,  82,  86,  88,  89,  91,  92,\n",
       "        94,  95,  97,  99, 100, 104, 106, 108, 109, 110, 111, 112, 113,\n",
       "       114, 115, 116, 117, 118, 119, 121, 127, 130, 131, 133, 134, 136,\n",
       "       137, 138, 139])"
      ]
     },
     "execution_count": 41,
     "metadata": {},
     "output_type": "execute_result"
    }
   ],
   "source": [
    "idx = np.where(mse_lgb < mse_nn)[0]\n",
    "print(len(idx))\n",
    "idx"
   ]
  },
  {
   "cell_type": "code",
   "execution_count": 37,
   "metadata": {},
   "outputs": [
    {
     "data": {
      "text/plain": [
       "array([[ 2.0027757 , -0.14023319, -0.04327662, ...,  0.36001372,\n",
       "        -1.2928327 ,  1.597052  ],\n",
       "       [-0.28304344,  0.04797234,  0.14927372, ..., -0.20170508,\n",
       "         1.2102768 ,  6.675041  ],\n",
       "       [-0.71534777, -0.49915326, -0.41048253, ..., -0.7506912 ,\n",
       "         1.5325812 ,  1.217305  ],\n",
       "       ...,\n",
       "       [-0.41715258,  1.7934265 ,  0.06119077, ...,  0.6489624 ,\n",
       "         1.8710786 ,  3.0164864 ],\n",
       "       [-0.23028766,  0.3895501 ,  1.3501713 , ..., -0.444369  ,\n",
       "         2.7940578 ,  4.698568  ],\n",
       "       [-0.14509758, -0.34723133,  1.6988021 , ...,  1.0188603 ,\n",
       "         1.8840111 ,  5.6001663 ]], dtype=float32)"
      ]
     },
     "execution_count": 37,
     "metadata": {},
     "output_type": "execute_result"
    }
   ],
   "source": [
    "y_fold_true"
   ]
  },
  {
   "cell_type": "code",
   "execution_count": 42,
   "metadata": {},
   "outputs": [
    {
     "data": {
      "text/plain": [
       "array([-0.22213432, -0.12991849, -0.01208161, ..., -0.19248216,\n",
       "       -0.12941684, -0.5071277 ], dtype=float32)"
      ]
     },
     "execution_count": 42,
     "metadata": {},
     "output_type": "execute_result"
    }
   ],
   "source": [
    "idxs = np.where(y_fold_nn < 0)\n",
    "y_fold_nn[idxs[0], idxs[1]]"
   ]
  },
  {
   "cell_type": "code",
   "execution_count": 25,
   "metadata": {},
   "outputs": [
    {
     "data": {
      "text/plain": [
       "array([-0.02166236, -0.09636224, -0.01011171, ..., -0.01659816,\n",
       "       -0.0649613 , -0.01141472])"
      ]
     },
     "execution_count": 25,
     "metadata": {},
     "output_type": "execute_result"
    }
   ],
   "source": [
    "idxs = np.where(y_fold_lgb < 0)\n",
    "y_fold_lgb[idxs[0], idxs[1]]"
   ]
  },
  {
   "cell_type": "code",
   "execution_count": 2,
   "metadata": {},
   "outputs": [
    {
     "data": {
      "text/plain": [
       "Text(0.5, 1.0, 'Evolution of val_loss')"
      ]
     },
     "execution_count": 2,
     "metadata": {},
     "output_type": "execute_result"
    },
    {
     "data": {
      "image/png": "[encoded data removed]",
      "text/plain": [
       "<Figure size 432x288 with 1 Axes>"
      ]
     },
     "metadata": {
      "needs_background": "light"
     },
     "output_type": "display_data"
    }
   ],
   "source": [
    "MODEL_DIR = os.path.join(PATH_WORKING, 'pdl_cite_x512')\n",
    "\n",
    "fig, ax = plt.subplots()\n",
    "\n",
    "for k in range(10):\n",
    "    data = json.load(open(os.path.join(MODEL_DIR, f'fold_{k}', 'history.json'), 'r'))\n",
    "    ax.plot(data['val_loss'])\n",
    "\n",
    "ax.set_xlabel('epoch')\n",
    "ax.set_ylabel('loss')\n",
    "ax.set_title('Evolution of val_loss')"
   ]
  },
  {
   "cell_type": "code",
   "execution_count": null,
   "metadata": {
    "collapsed": true
   },
   "outputs": [],
   "source": []
  },
  {
   "cell_type": "code",
   "execution_count": 2,
   "metadata": {
    "collapsed": true
   },
   "outputs": [],
   "source": []
  },
  {
   "cell_type": "code",
   "execution_count": null,
   "metadata": {
    "collapsed": true
   },
   "outputs": [],
   "source": []
  },
  {
   "cell_type": "code",
   "execution_count": 54,
   "metadata": {
    "collapsed": true
   },
   "outputs": [],
   "source": [
    "MODEL_DIR = os.path.join(PATH_WORKING, 'pdl_cite_x512')\n",
    "k = 0\n",
    "n_samples = 100\n",
    "\n",
    "y_true = np.load(os.path.join(MODEL_DIR, f'fold_{k}', 'samples', 'y_true.npy'))\n",
    "\n",
    "preds = [np.load(os.path.join(MODEL_DIR, f'fold_{k}', 'samples', f'y_pred_{i}.npy')) for i in range(n_samples)]\n",
    "y_bayes = sum(preds)/n_samples\n",
    "\n",
    "y_freq = np.load(os.path.join(PATH_WORKING, 'nn_cite_x512', f'y_fold_{k}.npy'))"
   ]
  },
  {
   "cell_type": "code",
   "execution_count": 50,
   "metadata": {
    "collapsed": true
   },
   "outputs": [],
   "source": []
  },
  {
   "cell_type": "code",
   "execution_count": 61,
   "metadata": {},
   "outputs": [
    {
     "data": {
      "text/plain": [
       "<matplotlib.legend.Legend at 0x7efb6305d4d0>"
      ]
     },
     "execution_count": 61,
     "metadata": {},
     "output_type": "execute_result"
    },
    {
     "data": {
      "image/png": "[encoded data removed]",
      "text/plain": [
       "<Figure size 720x288 with 1 Axes>"
      ]
     },
     "metadata": {
      "needs_background": "light"
     },
     "output_type": "display_data"
    }
   ],
   "source": [
    "i = 10; j = 3;\n",
    "#data = [y_pred[i,j] for y_pred in preds]\n",
    "\n",
    "fig, ax = plt.subplots(figsize=(10, 4))\n",
    "\n",
    "ax.hist(data, bins=25, weights=(1/n_samples)*np.ones(n_samples), label='samples')\n",
    "ax.axvline(y_true[i,j], linestyle='solid', color='r', label='y_true')\n",
    "ax.axvline(y_freq[i,j], linestyle='solid', color='m', label='y_freq')\n",
    "ax.axvline(y_bayes[i,j], linestyle='dashed', color='g', label='y_bayes')\n",
    "#ax.axvline(np.median(data), linestyle='dashed', color='m', label='median')\n",
    "        \n",
    "ax.set_xlabel('Prediction')\n",
    "ax.set_ylabel('Probability')\n",
    "\n",
    "ax.legend()"
   ]
  },
  {
   "cell_type": "code",
   "execution_count": null,
   "metadata": {
    "collapsed": true
   },
   "outputs": [],
   "source": []
  },
  {
   "cell_type": "code",
   "execution_count": 4,
   "metadata": {},
   "outputs": [
    {
     "name": "stderr",
     "output_type": "stream",
     "text": [
      "/home/datashare/envs/rden-py37-tf-cpu/lib/python3.7/site-packages/numpy/core/fromnumeric.py:3373: RuntimeWarning: Mean of empty slice.\n",
      "  out=out, **kwargs)\n",
      "/home/datashare/envs/rden-py37-tf-cpu/lib/python3.7/site-packages/numpy/core/_methods.py:170: RuntimeWarning: invalid value encountered in double_scalars\n",
      "  ret = ret.dtype.type(ret / rcount)\n"
     ]
    },
    {
     "data": {
      "text/plain": [
       "nan"
      ]
     },
     "execution_count": 4,
     "metadata": {},
     "output_type": "execute_result"
    }
   ],
   "source": [
    "np.mean([])"
   ]
  },
  {
   "cell_type": "code",
   "execution_count": 3,
   "metadata": {},
   "outputs": [
    {
     "name": "stderr",
     "output_type": "stream",
     "text": [
      "2022-10-15 22:11:58.488368: W tensorflow/stream_executor/platform/default/dso_loader.cc:64] Could not load dynamic library 'libcudart.so.11.0'; dlerror: libcudart.so.11.0: cannot open shared object file: No such file or directory; LD_LIBRARY_PATH: /usr/hadoop/lib/native/:/usr/local/cuda-9.0/targets/x86_64-linux/lib/:/usr/local/cuda-9.0/targets/x86_64-linux/lib64/:/usr/hadoop/lib/native/:/usr/local/cuda-9.0/targets/x86_64-linux/lib/:/usr/local/cuda-9.0/targets/x86_64-linux/lib64/::/usr/local/cuda/lib64:/usr/local/cuda/extras/CUPTI/lib64:/usr/local/cuda/lib64:/usr/local/cuda/extras/CUPTI/lib64:/usr/hadoop/lib/native:/usr/hadoop/lib/native/Linux-amd64-64\n",
      "2022-10-15 22:11:58.488499: W tensorflow/stream_executor/platform/default/dso_loader.cc:64] Could not load dynamic library 'libcublas.so.11'; dlerror: libcublas.so.11: cannot open shared object file: No such file or directory; LD_LIBRARY_PATH: /usr/hadoop/lib/native/:/usr/local/cuda-9.0/targets/x86_64-linux/lib/:/usr/local/cuda-9.0/targets/x86_64-linux/lib64/:/usr/hadoop/lib/native/:/usr/local/cuda-9.0/targets/x86_64-linux/lib/:/usr/local/cuda-9.0/targets/x86_64-linux/lib64/::/usr/local/cuda/lib64:/usr/local/cuda/extras/CUPTI/lib64:/usr/local/cuda/lib64:/usr/local/cuda/extras/CUPTI/lib64:/usr/hadoop/lib/native:/usr/hadoop/lib/native/Linux-amd64-64\n",
      "2022-10-15 22:11:58.488606: W tensorflow/stream_executor/platform/default/dso_loader.cc:64] Could not load dynamic library 'libcublasLt.so.11'; dlerror: libcublasLt.so.11: cannot open shared object file: No such file or directory; LD_LIBRARY_PATH: /usr/hadoop/lib/native/:/usr/local/cuda-9.0/targets/x86_64-linux/lib/:/usr/local/cuda-9.0/targets/x86_64-linux/lib64/:/usr/hadoop/lib/native/:/usr/local/cuda-9.0/targets/x86_64-linux/lib/:/usr/local/cuda-9.0/targets/x86_64-linux/lib64/::/usr/local/cuda/lib64:/usr/local/cuda/extras/CUPTI/lib64:/usr/local/cuda/lib64:/usr/local/cuda/extras/CUPTI/lib64:/usr/hadoop/lib/native:/usr/hadoop/lib/native/Linux-amd64-64\n",
      "2022-10-15 22:11:58.488705: W tensorflow/stream_executor/platform/default/dso_loader.cc:64] Could not load dynamic library 'libcufft.so.10'; dlerror: libcufft.so.10: cannot open shared object file: No such file or directory; LD_LIBRARY_PATH: /usr/hadoop/lib/native/:/usr/local/cuda-9.0/targets/x86_64-linux/lib/:/usr/local/cuda-9.0/targets/x86_64-linux/lib64/:/usr/hadoop/lib/native/:/usr/local/cuda-9.0/targets/x86_64-linux/lib/:/usr/local/cuda-9.0/targets/x86_64-linux/lib64/::/usr/local/cuda/lib64:/usr/local/cuda/extras/CUPTI/lib64:/usr/local/cuda/lib64:/usr/local/cuda/extras/CUPTI/lib64:/usr/hadoop/lib/native:/usr/hadoop/lib/native/Linux-amd64-64\n",
      "2022-10-15 22:11:58.488810: W tensorflow/stream_executor/platform/default/dso_loader.cc:64] Could not load dynamic library 'libcurand.so.10'; dlerror: libcurand.so.10: cannot open shared object file: No such file or directory; LD_LIBRARY_PATH: /usr/hadoop/lib/native/:/usr/local/cuda-9.0/targets/x86_64-linux/lib/:/usr/local/cuda-9.0/targets/x86_64-linux/lib64/:/usr/hadoop/lib/native/:/usr/local/cuda-9.0/targets/x86_64-linux/lib/:/usr/local/cuda-9.0/targets/x86_64-linux/lib64/::/usr/local/cuda/lib64:/usr/local/cuda/extras/CUPTI/lib64:/usr/local/cuda/lib64:/usr/local/cuda/extras/CUPTI/lib64:/usr/hadoop/lib/native:/usr/hadoop/lib/native/Linux-amd64-64\n",
      "2022-10-15 22:11:58.488914: W tensorflow/stream_executor/platform/default/dso_loader.cc:64] Could not load dynamic library 'libcusolver.so.11'; dlerror: libcusolver.so.11: cannot open shared object file: No such file or directory; LD_LIBRARY_PATH: /usr/hadoop/lib/native/:/usr/local/cuda-9.0/targets/x86_64-linux/lib/:/usr/local/cuda-9.0/targets/x86_64-linux/lib64/:/usr/hadoop/lib/native/:/usr/local/cuda-9.0/targets/x86_64-linux/lib/:/usr/local/cuda-9.0/targets/x86_64-linux/lib64/::/usr/local/cuda/lib64:/usr/local/cuda/extras/CUPTI/lib64:/usr/local/cuda/lib64:/usr/local/cuda/extras/CUPTI/lib64:/usr/hadoop/lib/native:/usr/hadoop/lib/native/Linux-amd64-64\n",
      "2022-10-15 22:11:58.489012: W tensorflow/stream_executor/platform/default/dso_loader.cc:64] Could not load dynamic library 'libcusparse.so.11'; dlerror: libcusparse.so.11: cannot open shared object file: No such file or directory; LD_LIBRARY_PATH: /usr/hadoop/lib/native/:/usr/local/cuda-9.0/targets/x86_64-linux/lib/:/usr/local/cuda-9.0/targets/x86_64-linux/lib64/:/usr/hadoop/lib/native/:/usr/local/cuda-9.0/targets/x86_64-linux/lib/:/usr/local/cuda-9.0/targets/x86_64-linux/lib64/::/usr/local/cuda/lib64:/usr/local/cuda/extras/CUPTI/lib64:/usr/local/cuda/lib64:/usr/local/cuda/extras/CUPTI/lib64:/usr/hadoop/lib/native:/usr/hadoop/lib/native/Linux-amd64-64\n",
      "2022-10-15 22:11:58.489114: W tensorflow/stream_executor/platform/default/dso_loader.cc:64] Could not load dynamic library 'libcudnn.so.8'; dlerror: libcudnn.so.8: cannot open shared object file: No such file or directory; LD_LIBRARY_PATH: /usr/hadoop/lib/native/:/usr/local/cuda-9.0/targets/x86_64-linux/lib/:/usr/local/cuda-9.0/targets/x86_64-linux/lib64/:/usr/hadoop/lib/native/:/usr/local/cuda-9.0/targets/x86_64-linux/lib/:/usr/local/cuda-9.0/targets/x86_64-linux/lib64/::/usr/local/cuda/lib64:/usr/local/cuda/extras/CUPTI/lib64:/usr/local/cuda/lib64:/usr/local/cuda/extras/CUPTI/lib64:/usr/hadoop/lib/native:/usr/hadoop/lib/native/Linux-amd64-64\n",
      "2022-10-15 22:11:58.489135: W tensorflow/core/common_runtime/gpu/gpu_device.cc:1835] Cannot dlopen some GPU libraries. Please make sure the missing libraries mentioned above are installed properly if you would like to use GPU. Follow the guide at https://www.tensorflow.org/install/gpu for how to download and setup the required libraries for your platform.\n",
      "Skipping registering GPU devices...\n",
      "2022-10-15 22:11:58.489525: I tensorflow/core/platform/cpu_feature_guard.cc:142] This TensorFlow binary is optimized with oneAPI Deep Neural Network Library (oneDNN) to use the following CPU instructions in performance-critical operations:  AVX2 FMA\n",
      "To enable them in other operations, rebuild TensorFlow with the appropriate compiler flags.\n"
     ]
    },
    {
     "name": "stdout",
     "output_type": "stream",
     "text": [
      "Model: \"model\"\n",
      "__________________________________________________________________________________________________\n",
      "Layer (type)                    Output Shape         Param #     Connected to                     \n",
      "==================================================================================================\n",
      "input_1 (InputLayer)            [(None, 512)]        0                                            \n",
      "__________________________________________________________________________________________________\n",
      "sequential (Sequential)         (None, 256)          198144      input_1[0][0]                    \n",
      "__________________________________________________________________________________________________\n",
      "sequential_2 (Sequential)       (None, 128)          99712       sequential[0][0]                 \n",
      "__________________________________________________________________________________________________\n",
      "tf.compat.v1.shape (TFOpLambda) (2,)                 0           sequential_2[0][0]               \n",
      "__________________________________________________________________________________________________\n",
      "tf.__operators__.getitem (Slici ()                   0           tf.compat.v1.shape[0][0]         \n",
      "__________________________________________________________________________________________________\n",
      "tf.eye (TFOpLambda)             (None, None)         0           tf.__operators__.getitem[0][0]   \n",
      "__________________________________________________________________________________________________\n",
      "tf.linalg.matmul (TFOpLambda)   (None, None)         0           sequential_2[0][0]               \n",
      "                                                                 sequential_2[0][0]               \n",
      "__________________________________________________________________________________________________\n",
      "tf.math.subtract (TFOpLambda)   (None, None)         0           tf.eye[0][0]                     \n",
      "__________________________________________________________________________________________________\n",
      "sequential_3 (Sequential)       (None, 128)          297856      input_1[0][0]                    \n",
      "__________________________________________________________________________________________________\n",
      "tf.math.multiply (TFOpLambda)   (None, None)         0           tf.linalg.matmul[0][0]           \n",
      "                                                                 tf.math.subtract[0][0]           \n",
      "__________________________________________________________________________________________________\n",
      "tf.linalg.matmul_1 (TFOpLambda) (None, None)         0           sequential_2[0][0]               \n",
      "                                                                 sequential_3[0][0]               \n",
      "__________________________________________________________________________________________________\n",
      "tf.concat (TFOpLambda)          (None, None)         0           tf.math.multiply[0][0]           \n",
      "                                                                 tf.linalg.matmul_1[0][0]         \n",
      "__________________________________________________________________________________________________\n",
      "tf.math.truediv (TFOpLambda)    (None, None)         0           tf.concat[0][0]                  \n",
      "__________________________________________________________________________________________________\n",
      "tf.nn.softmax (TFOpLambda)      (None, None)         0           tf.math.truediv[0][0]            \n",
      "__________________________________________________________________________________________________\n",
      "tf.__operators__.getitem_1 (Sli (None, None)         0           tf.nn.softmax[0][0]              \n",
      "                                                                 tf.__operators__.getitem[0][0]   \n",
      "__________________________________________________________________________________________________\n",
      "tf.linalg.diag_part (TFOpLambda (None,)              0           tf.__operators__.getitem_1[0][0] \n",
      "__________________________________________________________________________________________________\n",
      "sequential_1 (Sequential)       (None, 140)          102796      sequential[0][0]                 \n",
      "__________________________________________________________________________________________________\n",
      "tf.reshape (TFOpLambda)         (None, 1)            0           tf.linalg.diag_part[0][0]        \n",
      "__________________________________________________________________________________________________\n",
      "tf.concat_1 (TFOpLambda)        (None, 141)          0           sequential_1[0][0]               \n",
      "                                                                 tf.reshape[0][0]                 \n",
      "==================================================================================================\n",
      "Total params: 400,652\n",
      "Trainable params: 399,116\n",
      "Non-trainable params: 1,536\n",
      "__________________________________________________________________________________________________\n"
     ]
    }
   ],
   "source": [
    "from builder import build_cite_selfsv\n",
    "model = build_cite_selfsv(n_inputs=512, n_outputs=140, n_units=256, rate=0.3, l2=1e-3)\n",
    "model.summary()"
   ]
  },
  {
   "cell_type": "code",
   "execution_count": 12,
   "metadata": {},
   "outputs": [
    {
     "data": {
      "text/plain": [
       "[<KerasTensor: shape=(None, 140) dtype=float32 (created by layer 'dense_3')>]"
      ]
     },
     "execution_count": 12,
     "metadata": {},
     "output_type": "execute_result"
    }
   ],
   "source": [
    "model.layers[-3].outputs"
   ]
  },
  {
   "cell_type": "code",
   "execution_count": 7,
   "metadata": {},
   "outputs": [
    {
     "data": {
      "text/plain": [
       "[<keras.engine.input_layer.InputLayer at 0x7fa161270e10>,\n",
       " <keras.engine.sequential.Sequential at 0x7f9fd068dad0>,\n",
       " <keras.engine.sequential.Sequential at 0x7f9fd05f71d0>,\n",
       " <keras.layers.core.TFOpLambda at 0x7f9fd0517090>,\n",
       " <keras.layers.core.SlicingOpLambda at 0x7f9fd05f7850>,\n",
       " <keras.layers.core.TFOpLambda at 0x7f9fd04fc210>,\n",
       " <keras.layers.core.TFOpLambda at 0x7f9fd0521390>,\n",
       " <keras.layers.core.TFOpLambda at 0x7f9fd0506690>,\n",
       " <keras.engine.sequential.Sequential at 0x7f9fd05f78d0>,\n",
       " <keras.layers.core.TFOpLambda at 0x7f9fd0506a10>,\n",
       " <keras.layers.core.TFOpLambda at 0x7f9fd04e5710>,\n",
       " <keras.layers.core.TFOpLambda at 0x7f9fd0517050>,\n",
       " <keras.layers.core.TFOpLambda at 0x7f9fd055d810>,\n",
       " <keras.layers.core.TFOpLambda at 0x7f9fd04ef8d0>,\n",
       " <keras.layers.core.SlicingOpLambda at 0x7f9fd055de90>,\n",
       " <keras.layers.core.TFOpLambda at 0x7f9fd0506110>,\n",
       " <keras.engine.sequential.Sequential at 0x7f9fd05ee050>,\n",
       " <keras.layers.core.TFOpLambda at 0x7f9fd04eaa50>,\n",
       " <keras.layers.core.TFOpLambda at 0x7f9fd054ee50>]"
      ]
     },
     "execution_count": 7,
     "metadata": {},
     "output_type": "execute_result"
    }
   ],
   "source": [
    "model.layers"
   ]
  },
  {
   "cell_type": "code",
   "execution_count": null,
   "metadata": {
    "collapsed": true
   },
   "outputs": [],
   "source": []
  }
 ],
 "metadata": {
  "kernelspec": {
   "display_name": "rden-py37-tf-cpu",
   "language": "python",
   "name": "rden-py37-tf-cpu"
  },
  "language_info": {
   "codemirror_mode": {
    "name": "ipython",
    "version": 3
   },
   "file_extension": ".py",
   "mimetype": "text/x-python",
   "name": "python",
   "nbconvert_exporter": "python",
   "pygments_lexer": "ipython3",
   "version": "3.7.7"
  },
  "papermill": {
   "default_parameters": {},
   "duration": 4421.801469,
   "end_time": "2022-08-21T01:14:10.737421",
   "environment_variables": {},
   "exception": null,
   "input_path": "__notebook__.ipynb",
   "output_path": "__notebook__.ipynb",
   "parameters": {},
   "start_time": "2022-08-21T00:00:28.935952",
   "version": "2.3.4"
  }
 },
 "nbformat": 4,
 "nbformat_minor": 5
}
